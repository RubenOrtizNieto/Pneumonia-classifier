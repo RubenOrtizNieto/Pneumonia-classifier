{
 "cells": [
  {
   "cell_type": "markdown",
   "metadata": {
    "papermill": {
     "duration": 0.008297,
     "end_time": "2021-02-02T11:36:18.514716",
     "exception": false,
     "start_time": "2021-02-02T11:36:18.506419",
     "status": "completed"
    },
    "tags": []
   },
   "source": [
    "# **Imports**"
   ]
  },
  {
   "cell_type": "code",
   "execution_count": 1,
   "metadata": {
    "execution": {
     "iopub.execute_input": "2021-02-02T11:36:18.536574Z",
     "iopub.status.busy": "2021-02-02T11:36:18.535894Z",
     "iopub.status.idle": "2021-02-02T11:36:25.073717Z",
     "shell.execute_reply": "2021-02-02T11:36:25.073055Z"
    },
    "papermill": {
     "duration": 6.551631,
     "end_time": "2021-02-02T11:36:25.073906",
     "exception": false,
     "start_time": "2021-02-02T11:36:18.522275",
     "status": "completed"
    },
    "tags": []
   },
   "outputs": [],
   "source": [
    "import numpy as np # linear algebra\n",
    "import pandas as pd # data processing, CSV file I/O (e.g. pd.read_csv)\n",
    "\n",
    "import matplotlib.pyplot as plt\n",
    "import seaborn as sns\n",
    "import keras\n",
    "from keras import Input\n",
    "from keras.metrics import Precision, Recall\n",
    "from keras.models import Sequential, Model\n",
    "from keras.layers import Dense, Conv2D , MaxPool2D , Flatten , Dropout , BatchNormalization, SeparableConv2D\n",
    "from keras.optimizers import Adam\n",
    "from keras.wrappers.scikit_learn import KerasClassifier\n",
    "from sklearn.model_selection import GridSearchCV\n",
    "from keras.preprocessing.image import ImageDataGenerator\n",
    "from sklearn.model_selection import train_test_split\n",
    "from sklearn.metrics import classification_report,confusion_matrix\n",
    "from keras.callbacks import ModelCheckpoint, ReduceLROnPlateau, EarlyStopping\n",
    "import cv2\n",
    "import os"
   ]
  },
  {
   "cell_type": "markdown",
   "metadata": {
    "papermill": {
     "duration": 0.007347,
     "end_time": "2021-02-02T11:36:25.089420",
     "exception": false,
     "start_time": "2021-02-02T11:36:25.082073",
     "status": "completed"
    },
    "tags": []
   },
   "source": [
    "# **Loading the dataset and visualizing it**"
   ]
  },
  {
   "cell_type": "code",
   "execution_count": 2,
   "metadata": {
    "execution": {
     "iopub.execute_input": "2021-02-02T11:36:25.111099Z",
     "iopub.status.busy": "2021-02-02T11:36:25.110502Z",
     "iopub.status.idle": "2021-02-02T11:36:25.573727Z",
     "shell.execute_reply": "2021-02-02T11:36:25.573295Z"
    },
    "papermill": {
     "duration": 0.47702,
     "end_time": "2021-02-02T11:36:25.573852",
     "exception": false,
     "start_time": "2021-02-02T11:36:25.096832",
     "status": "completed"
    },
    "tags": []
   },
   "outputs": [
    {
     "name": "stdout",
     "output_type": "stream",
     "text": [
      "Set: train, normal images: 1342, pneumonia images: 3876\n",
      "Set: val, normal images: 9, pneumonia images: 9\n",
      "Set: test, normal images: 234, pneumonia images: 390\n"
     ]
    },
    {
     "name": "stderr",
     "output_type": "stream",
     "text": [
      "/opt/conda/lib/python3.7/site-packages/seaborn/_decorators.py:43: FutureWarning: Pass the following variable as a keyword arg: x. From version 0.12, the only valid positional argument will be `data`, and passing other arguments without an explicit keyword will result in an error or misinterpretation.\n",
      "  FutureWarning\n"
     ]
    },
    {
     "data": {
      "image/png": "[encoded data removed]",
      "text/plain": [
       "<Figure size 432x288 with 1 Axes>"
      ]
     },
     "metadata": {},
     "output_type": "display_data"
    }
   ],
   "source": [
    "path = '../input/chest-xray-pneumonia/chest_xray/chest_xray/'\n",
    "\n",
    "for comb in ['train', 'val', 'test']:\n",
    "    normal = len(os.listdir(path + comb + '/NORMAL'))\n",
    "    pneumonia = len(os.listdir(path + comb + '/PNEUMONIA'))\n",
    "    print('Set: {}, normal images: {}, pneumonia images: {}'.format(comb, normal, pneumonia))\n",
    "    if comb == 'train':\n",
    "        bar_count = []\n",
    "        bar_count.extend([\"Pneumonia\" for i in range(pneumonia)])\n",
    "        bar_count.extend([\"Normal\" for i in range(normal)])\n",
    "        sns.set_style('darkgrid')\n",
    "        sns.countplot(bar_count)"
   ]
  },
  {
   "cell_type": "markdown",
   "metadata": {
    "papermill": {
     "duration": 0.008762,
     "end_time": "2021-02-02T11:36:25.592292",
     "exception": false,
     "start_time": "2021-02-02T11:36:25.583530",
     "status": "completed"
    },
    "tags": []
   },
   "source": [
    "# **Preprocessing data**"
   ]
  },
  {
   "cell_type": "code",
   "execution_count": 3,
   "metadata": {
    "execution": {
     "iopub.execute_input": "2021-02-02T11:36:25.621341Z",
     "iopub.status.busy": "2021-02-02T11:36:25.619626Z",
     "iopub.status.idle": "2021-02-02T11:36:25.622027Z",
     "shell.execute_reply": "2021-02-02T11:36:25.622440Z"
    },
    "papermill": {
     "duration": 0.021157,
     "end_time": "2021-02-02T11:36:25.622573",
     "exception": false,
     "start_time": "2021-02-02T11:36:25.601416",
     "status": "completed"
    },
    "tags": []
   },
   "outputs": [],
   "source": [
    "def process_data(batch_size):\n",
    "    # We normalize the data (cnn converges faster on [0..1] data than [0..255])\n",
    "    # And in order to avoid overfitting we artifcially expand our data set using parameters such \n",
    "    #as zoom_range, vertical_flip etc.\n",
    "    train_datagen = ImageDataGenerator(rescale = 1./255, zoom_range = 0.3, vertical_flip = True) \n",
    "    test_val_datagen = ImageDataGenerator(rescale=1./255)\n",
    "    \n",
    "    # Obtains image with the definded bach size which will be useful later when we fit the model\n",
    "    train_gen = train_datagen.flow_from_directory(\n",
    "                 directory = path + 'train', \n",
    "                 target_size = (150, 150), \n",
    "                 batch_size = batch_size, \n",
    "                 class_mode = 'binary', \n",
    "                 shuffle = True)\n",
    "\n",
    "    test_gen = test_val_datagen.flow_from_directory(\n",
    "                directory = path + 'test', \n",
    "                target_size = (150, 150), \n",
    "                batch_size = batch_size, \n",
    "                class_mode = 'binary', \n",
    "                shuffle = True)\n",
    "    \n",
    "    # The predictions will be based on one batch size\n",
    "    test_data = []\n",
    "    test_labels = []\n",
    "\n",
    "    for cond in ['/NORMAL/', '/PNEUMONIA/']:\n",
    "        for img in (os.listdir(path + 'test' + cond)):\n",
    "            img = plt.imread(path+'test'+cond+img)\n",
    "            img = cv2.resize(img, (150, 150))\n",
    "            # Such that the shape of the images is (150, 150, 3)\n",
    "            img = np.dstack([img, img, img])\n",
    "            # We normalize the data again ([0..255 --> 0..1])\n",
    "            img = img.astype('float32') / 255\n",
    "            if cond=='/NORMAL/':\n",
    "                label = 0\n",
    "            elif cond=='/PNEUMONIA/':\n",
    "                label = 1\n",
    "            test_data.append(img)\n",
    "            test_labels.append(label)\n",
    "        \n",
    "    test_data = np.array(test_data)\n",
    "    test_labels = np.array(test_labels)\n",
    "    \n",
    "    return train_gen, test_gen, test_data, test_labels"
   ]
  },
  {
   "cell_type": "code",
   "execution_count": 4,
   "metadata": {
    "execution": {
     "iopub.execute_input": "2021-02-02T11:36:25.644383Z",
     "iopub.status.busy": "2021-02-02T11:36:25.643847Z",
     "iopub.status.idle": "2021-02-02T11:36:37.077717Z",
     "shell.execute_reply": "2021-02-02T11:36:37.076812Z"
    },
    "papermill": {
     "duration": 11.446349,
     "end_time": "2021-02-02T11:36:37.077850",
     "exception": false,
     "start_time": "2021-02-02T11:36:25.631501",
     "status": "completed"
    },
    "tags": []
   },
   "outputs": [
    {
     "name": "stdout",
     "output_type": "stream",
     "text": [
      "Found 5216 images belonging to 2 classes.\n",
      "Found 624 images belonging to 2 classes.\n"
     ]
    }
   ],
   "source": [
    "epochs = 10\n",
    "batch_size = 32\n",
    "\n",
    "train_gen, test_gen, test_data, test_labels = process_data(batch_size)"
   ]
  },
  {
   "cell_type": "markdown",
   "metadata": {
    "papermill": {
     "duration": 0.008792,
     "end_time": "2021-02-02T11:36:37.096229",
     "exception": false,
     "start_time": "2021-02-02T11:36:37.087437",
     "status": "completed"
    },
    "tags": []
   },
   "source": [
    "# **Training the Model:**\n",
    "- **Conv2D** -> Creates a convolution kernel that is wind with layers input which helps produce a tensor of outputs.\n",
    "- **BatchNormalization** -> Method used to make artificial neural networks faster and more stable through normalization of the input layer. \n",
    "- **MaxPool2D** -> It states the maximum output within a rectangular neighbourhood.\n",
    "- **Dropout** -> Is regularization technique to avoid overfitting (increase ther validation accuracy) thus increasing the generalizing power."
   ]
  },
  {
   "cell_type": "code",
   "execution_count": 5,
   "metadata": {
    "execution": {
     "iopub.execute_input": "2021-02-02T11:36:37.118737Z",
     "iopub.status.busy": "2021-02-02T11:36:37.118225Z",
     "iopub.status.idle": "2021-02-02T11:36:37.121515Z",
     "shell.execute_reply": "2021-02-02T11:36:37.121877Z"
    },
    "papermill": {
     "duration": 0.01689,
     "end_time": "2021-02-02T11:36:37.122008",
     "exception": false,
     "start_time": "2021-02-02T11:36:37.105118",
     "status": "completed"
    },
    "tags": []
   },
   "outputs": [],
   "source": [
    "def conv_block(filters):\n",
    "    block = Sequential([\n",
    "        SeparableConv2D(filters, (3,3), activation='relu', padding='same'),\n",
    "        SeparableConv2D(filters, (3,3), activation='relu', padding='same'),\n",
    "        BatchNormalization(),\n",
    "        MaxPool2D((2,2))\n",
    "    ])\n",
    "    \n",
    "    return block"
   ]
  },
  {
   "cell_type": "code",
   "execution_count": 6,
   "metadata": {
    "execution": {
     "iopub.execute_input": "2021-02-02T11:36:37.143896Z",
     "iopub.status.busy": "2021-02-02T11:36:37.143404Z",
     "iopub.status.idle": "2021-02-02T11:36:37.146952Z",
     "shell.execute_reply": "2021-02-02T11:36:37.146543Z"
    },
    "papermill": {
     "duration": 0.015972,
     "end_time": "2021-02-02T11:36:37.147048",
     "exception": false,
     "start_time": "2021-02-02T11:36:37.131076",
     "status": "completed"
    },
    "tags": []
   },
   "outputs": [],
   "source": [
    "def dense_block(units, dropout_rate):\n",
    "    block = Sequential([\n",
    "        Dense(units, activation='relu'),\n",
    "        Dropout(dropout_rate)\n",
    "    ])\n",
    "    \n",
    "    return block"
   ]
  },
  {
   "cell_type": "code",
   "execution_count": 7,
   "metadata": {
    "_cell_guid": "b1076dfc-b9ad-4769-8c92-a6c4dae69d19",
    "_uuid": "8f2839f25d086af736a60e9eeb907d3b93b6e0e5",
    "execution": {
     "iopub.execute_input": "2021-02-02T11:36:37.173015Z",
     "iopub.status.busy": "2021-02-02T11:36:37.172522Z",
     "iopub.status.idle": "2021-02-02T11:36:40.342449Z",
     "shell.execute_reply": "2021-02-02T11:36:40.343049Z"
    },
    "papermill": {
     "duration": 3.187006,
     "end_time": "2021-02-02T11:36:40.343265",
     "exception": false,
     "start_time": "2021-02-02T11:36:37.156259",
     "status": "completed"
    },
    "tags": []
   },
   "outputs": [
    {
     "name": "stdout",
     "output_type": "stream",
     "text": [
      "Model: \"sequential_7\"\n",
      "_________________________________________________________________\n",
      "Layer (type)                 Output Shape              Param #   \n",
      "=================================================================\n",
      "conv2d (Conv2D)              (None, 150, 150, 16)      448       \n",
      "_________________________________________________________________\n",
      "conv2d_1 (Conv2D)            (None, 150, 150, 16)      2320      \n",
      "_________________________________________________________________\n",
      "max_pooling2d (MaxPooling2D) (None, 75, 75, 16)        0         \n",
      "_________________________________________________________________\n",
      "sequential (Sequential)      (None, 37, 37, 32)        2160      \n",
      "_________________________________________________________________\n",
      "sequential_1 (Sequential)    (None, 18, 18, 64)        7392      \n",
      "_________________________________________________________________\n",
      "sequential_2 (Sequential)    (None, 9, 9, 128)         27072     \n",
      "_________________________________________________________________\n",
      "dropout (Dropout)            (None, 9, 9, 128)         0         \n",
      "_________________________________________________________________\n",
      "sequential_3 (Sequential)    (None, 4, 4, 256)         103296    \n",
      "_________________________________________________________________\n",
      "dropout_1 (Dropout)          (None, 4, 4, 256)         0         \n",
      "_________________________________________________________________\n",
      "flatten (Flatten)            (None, 4096)              0         \n",
      "_________________________________________________________________\n",
      "sequential_4 (Sequential)    (None, 512)               2097664   \n",
      "_________________________________________________________________\n",
      "sequential_5 (Sequential)    (None, 128)               65664     \n",
      "_________________________________________________________________\n",
      "sequential_6 (Sequential)    (None, 64)                8256      \n",
      "_________________________________________________________________\n",
      "dense_3 (Dense)              (None, 1)                 65        \n",
      "=================================================================\n",
      "Total params: 2,314,337\n",
      "Trainable params: 2,313,377\n",
      "Non-trainable params: 960\n",
      "_________________________________________________________________\n"
     ]
    }
   ],
   "source": [
    "\n",
    "model = Sequential([\n",
    "    # First (input) convutional block\n",
    "    Input(shape=(150,150, 3)),\n",
    "    Conv2D(16, (3,3), activation='relu', padding='same'),\n",
    "    Conv2D(16, (3,3), activation='relu', padding='same'),\n",
    "    MaxPool2D((2,2), padding = 'same'),\n",
    "    \n",
    "    # Second convutional block\n",
    "    conv_block(32),\n",
    "\n",
    "    # Third convutional block\n",
    "    conv_block(64),\n",
    "    \n",
    "    # Fourth convutional block\n",
    "    conv_block(128),\n",
    "    Dropout(0.2),\n",
    "    \n",
    "    # Fifth convutional block\n",
    "    conv_block(256),\n",
    "    Dropout(0.2),\n",
    "    \n",
    "    Flatten(),\n",
    "    dense_block(512, 0.7),\n",
    "    dense_block(128, 0.5),\n",
    "    dense_block(64, 0.3),\n",
    "    Dense(1, activation = 'sigmoid')\n",
    "])\n",
    "\n",
    "model.summary()\n",
    "model.compile(loss='binary_crossentropy', optimizer= 'adam', metrics=['accuracy'])\n",
    "\n",
    "# Callbacks\n",
    "\n",
    "checkpoint = ModelCheckpoint(filepath='best_weights.h5', save_best_only=True)\n",
    "lr_reduce = ReduceLROnPlateau(monitor='val_loss', factor=0.3, patience=2, verbose=2, mode='max')\n",
    "early_stop = EarlyStopping(patience=10, restore_best_weights=True)\n"
   ]
  },
  {
   "cell_type": "code",
   "execution_count": 8,
   "metadata": {
    "execution": {
     "iopub.execute_input": "2021-02-02T11:36:40.367775Z",
     "iopub.status.busy": "2021-02-02T11:36:40.367276Z",
     "iopub.status.idle": "2021-02-02T11:50:21.431309Z",
     "shell.execute_reply": "2021-02-02T11:50:21.432261Z"
    },
    "papermill": {
     "duration": 821.078661,
     "end_time": "2021-02-02T11:50:21.432427",
     "exception": false,
     "start_time": "2021-02-02T11:36:40.353766",
     "status": "completed"
    },
    "tags": []
   },
   "outputs": [
    {
     "name": "stdout",
     "output_type": "stream",
     "text": [
      "Epoch 1/10\n",
      "163/163 [==============================] - 117s 694ms/step - loss: 0.4963 - accuracy: 0.7693 - val_loss: 0.7583 - val_accuracy: 0.6299\n",
      "Epoch 2/10\n",
      "163/163 [==============================] - 78s 481ms/step - loss: 0.2593 - accuracy: 0.8967 - val_loss: 0.8950 - val_accuracy: 0.6283\n",
      "Epoch 3/10\n",
      "163/163 [==============================] - 78s 481ms/step - loss: 0.2394 - accuracy: 0.9095 - val_loss: 1.1211 - val_accuracy: 0.6250\n",
      "Epoch 4/10\n",
      "163/163 [==============================] - 79s 484ms/step - loss: 0.2253 - accuracy: 0.9179 - val_loss: 1.3021 - val_accuracy: 0.6217\n",
      "Epoch 5/10\n",
      "163/163 [==============================] - 78s 481ms/step - loss: 0.1974 - accuracy: 0.9294 - val_loss: 0.2813 - val_accuracy: 0.8882\n",
      "Epoch 6/10\n",
      "163/163 [==============================] - 77s 474ms/step - loss: 0.2035 - accuracy: 0.9208 - val_loss: 0.3499 - val_accuracy: 0.8651\n",
      "\n",
      "Epoch 00006: ReduceLROnPlateau reducing learning rate to 0.0003000000142492354.\n",
      "Epoch 7/10\n",
      "163/163 [==============================] - 78s 477ms/step - loss: 0.1420 - accuracy: 0.9506 - val_loss: 0.3113 - val_accuracy: 0.8717\n",
      "Epoch 8/10\n",
      "163/163 [==============================] - 77s 473ms/step - loss: 0.1465 - accuracy: 0.9535 - val_loss: 0.3124 - val_accuracy: 0.8931\n",
      "\n",
      "Epoch 00008: ReduceLROnPlateau reducing learning rate to 9.000000427477062e-05.\n",
      "Epoch 9/10\n",
      "163/163 [==============================] - 77s 475ms/step - loss: 0.1342 - accuracy: 0.9568 - val_loss: 0.2378 - val_accuracy: 0.9112\n",
      "Epoch 10/10\n",
      "163/163 [==============================] - 79s 482ms/step - loss: 0.1407 - accuracy: 0.9544 - val_loss: 0.3264 - val_accuracy: 0.8980\n",
      "\n",
      "Epoch 00010: ReduceLROnPlateau reducing learning rate to 2.700000040931627e-05.\n"
     ]
    }
   ],
   "source": [
    "hist = model.fit(\n",
    "           train_gen, steps_per_epoch = train_gen.samples // batch_size, \n",
    "           epochs = epochs, \n",
    "           validation_data = test_gen, \n",
    "           validation_steps = test_gen.samples // batch_size, \n",
    "           callbacks=[checkpoint, early_stop, lr_reduce])"
   ]
  },
  {
   "cell_type": "code",
   "execution_count": 9,
   "metadata": {
    "execution": {
     "iopub.execute_input": "2021-02-02T11:50:22.311580Z",
     "iopub.status.busy": "2021-02-02T11:50:22.310719Z",
     "iopub.status.idle": "2021-02-02T11:50:22.616713Z",
     "shell.execute_reply": "2021-02-02T11:50:22.616284Z"
    },
    "papermill": {
     "duration": 0.758812,
     "end_time": "2021-02-02T11:50:22.616837",
     "exception": false,
     "start_time": "2021-02-02T11:50:21.858025",
     "status": "completed"
    },
    "tags": []
   },
   "outputs": [
    {
     "data": {
      "image/png": "[encoded data removed]",
      "text/plain": [
       "<Figure size 720x216 with 2 Axes>"
      ]
     },
     "metadata": {},
     "output_type": "display_data"
    }
   ],
   "source": [
    "fig, ax = plt.subplots(1, 2, figsize=(10, 3))\n",
    "ax = ax.ravel()\n",
    "\n",
    "for i, met in enumerate(['accuracy', 'loss']):\n",
    "    ax[i].plot(hist.history[met])\n",
    "    ax[i].plot(hist.history['val_' + met])\n",
    "    ax[i].set_title('Model {}'.format(met))\n",
    "    ax[i].set_xlabel('epochs')\n",
    "    ax[i].set_ylabel(met)\n",
    "    ax[i].legend(['train', 'val'])"
   ]
  },
  {
   "cell_type": "code",
   "execution_count": 10,
   "metadata": {
    "execution": {
     "iopub.execute_input": "2021-02-02T11:50:23.480405Z",
     "iopub.status.busy": "2021-02-02T11:50:23.479589Z",
     "iopub.status.idle": "2021-02-02T11:50:24.049703Z",
     "shell.execute_reply": "2021-02-02T11:50:24.048954Z"
    },
    "papermill": {
     "duration": 1.003522,
     "end_time": "2021-02-02T11:50:24.049872",
     "exception": false,
     "start_time": "2021-02-02T11:50:23.046350",
     "status": "completed"
    },
    "tags": []
   },
   "outputs": [
    {
     "name": "stdout",
     "output_type": "stream",
     "text": [
      "CONFUSION MATRIX ------------------\n",
      "[[173  61]\n",
      " [  6 384]]\n",
      "\n",
      "TEST METRICS ----------------------\n",
      "Accuracy: 89.26282051282051%\n",
      "Precision: 86.29213483146067%\n",
      "Recall: 98.46153846153847%\n",
      "F1-score: 91.97604790419163\n",
      "\n",
      "TRAIN METRIC ----------------------\n",
      "Train acc: 95.63\n"
     ]
    }
   ],
   "source": [
    "from sklearn.metrics import accuracy_score, confusion_matrix\n",
    "\n",
    "preds = model.predict(test_data)\n",
    "\n",
    "acc = accuracy_score(test_labels, np.round(preds))*100\n",
    "cm = confusion_matrix(test_labels, np.round(preds))\n",
    "tn, fp, fn, tp = cm.ravel()\n",
    "\n",
    "print('CONFUSION MATRIX ------------------')\n",
    "print(cm)\n",
    "\n",
    "print('\\nTEST METRICS ----------------------')\n",
    "precision = tp/(tp+fp)*100\n",
    "recall = tp/(tp+fn)*100\n",
    "print('Accuracy: {}%'.format(acc))\n",
    "print('Precision: {}%'.format(precision))\n",
    "print('Recall: {}%'.format(recall))\n",
    "print('F1-score: {}'.format(2*precision*recall/(precision+recall)))\n",
    "\n",
    "print('\\nTRAIN METRIC ----------------------')\n",
    "print('Train acc: {}'.format(np.round((hist.history['accuracy'][-1])*100, 2)))"
   ]
  }
 ],
 "metadata": {
  "kernelspec": {
   "display_name": "Python 3",
   "language": "python",
   "name": "python3"
  },
  "language_info": {
   "codemirror_mode": {
    "name": "ipython",
    "version": 3
   },
   "file_extension": ".py",
   "mimetype": "text/x-python",
   "name": "python",
   "nbconvert_exporter": "python",
   "pygments_lexer": "ipython3",
   "version": "3.7.9"
  },
  "papermill": {
   "default_parameters": {},
   "duration": 854.077663,
   "end_time": "2021-02-02T11:50:27.616810",
   "environment_variables": {},
   "exception": null,
   "input_path": "__notebook__.ipynb",
   "output_path": "__notebook__.ipynb",
   "parameters": {},
   "start_time": "2021-02-02T11:36:13.539147",
   "version": "2.2.2"
  }
 },
 "nbformat": 4,
 "nbformat_minor": 4
}
